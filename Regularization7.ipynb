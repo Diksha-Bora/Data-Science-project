{
  "nbformat": 4,
  "nbformat_minor": 0,
  "metadata": {
    "colab": {
      "provenance": [],
      "authorship_tag": "ABX9TyN49RJoMrbRBRoe6K44VaQ3",
      "include_colab_link": true
    },
    "kernelspec": {
      "name": "python3",
      "display_name": "Python 3"
    },
    "language_info": {
      "name": "python"
    }
  },
  "cells": [
    {
      "cell_type": "markdown",
      "metadata": {
        "id": "view-in-github",
        "colab_type": "text"
      },
      "source": [
        "<a href=\"https://colab.research.google.com/github/Diksha-Bora/Data-Science-project/blob/main/Regularization7.ipynb\" target=\"_parent\"><img src=\"https://colab.research.google.com/assets/colab-badge.svg\" alt=\"Open In Colab\"/></a>"
      ]
    },
    {
      "cell_type": "markdown",
      "source": [
        "RIDGE REGULARIZATION"
      ],
      "metadata": {
        "id": "Es8FZj2bI_wg"
      }
    },
    {
      "cell_type": "code",
      "execution_count": 68,
      "metadata": {
        "colab": {
          "base_uri": "https://localhost:8080/"
        },
        "id": "COJyq5w5Amfi",
        "outputId": "b73c1ad4-3e67-447b-d6f0-a932ec1f3803"
      },
      "outputs": [
        {
          "output_type": "stream",
          "name": "stdout",
          "text": [
            "<class 'pandas.core.frame.DataFrame'>\n",
            "RangeIndex: 506 entries, 0 to 505\n",
            "Data columns (total 14 columns):\n",
            " #   Column   Non-Null Count  Dtype  \n",
            "---  ------   --------------  -----  \n",
            " 0   crim     506 non-null    float64\n",
            " 1   zn       506 non-null    float64\n",
            " 2   indus    506 non-null    float64\n",
            " 3   chas     506 non-null    int64  \n",
            " 4   nox      506 non-null    float64\n",
            " 5   rm       506 non-null    float64\n",
            " 6   age      506 non-null    float64\n",
            " 7   dis      506 non-null    float64\n",
            " 8   rad      506 non-null    int64  \n",
            " 9   tax      506 non-null    int64  \n",
            " 10  ptratio  506 non-null    float64\n",
            " 11  b        506 non-null    float64\n",
            " 12  lstat    506 non-null    float64\n",
            " 13  medv     506 non-null    float64\n",
            "dtypes: float64(11), int64(3)\n",
            "memory usage: 55.5 KB\n"
          ]
        }
      ],
      "source": [
        "# IMPORTING LIBRARIES AND DATASET\n",
        "import pandas as pd\n",
        "import numpy as np\n",
        "import matplotlib.pyplot as plt\n",
        "data = pd.read_csv(\"/content/BostonHousing.csv\")\n",
        "data.info()"
      ]
    },
    {
      "cell_type": "code",
      "source": [
        "data.columns = data.columns.str.upper()\n",
        "data.head()"
      ],
      "metadata": {
        "colab": {
          "base_uri": "https://localhost:8080/",
          "height": 206
        },
        "id": "QZDvaR8bBYN1",
        "outputId": "559973ef-557c-4e8a-bca6-f16dce41bf49"
      },
      "execution_count": 69,
      "outputs": [
        {
          "output_type": "execute_result",
          "data": {
            "text/plain": [
              "      CRIM    ZN  INDUS  CHAS    NOX     RM   AGE     DIS  RAD  TAX  PTRATIO  \\\n",
              "0  0.00632  18.0   2.31     0  0.538  6.575  65.2  4.0900    1  296     15.3   \n",
              "1  0.02731   0.0   7.07     0  0.469  6.421  78.9  4.9671    2  242     17.8   \n",
              "2  0.02729   0.0   7.07     0  0.469  7.185  61.1  4.9671    2  242     17.8   \n",
              "3  0.03237   0.0   2.18     0  0.458  6.998  45.8  6.0622    3  222     18.7   \n",
              "4  0.06905   0.0   2.18     0  0.458  7.147  54.2  6.0622    3  222     18.7   \n",
              "\n",
              "        B  LSTAT  MEDV  \n",
              "0  396.90   4.98  24.0  \n",
              "1  396.90   9.14  21.6  \n",
              "2  392.83   4.03  34.7  \n",
              "3  394.63   2.94  33.4  \n",
              "4  396.90   5.33  36.2  "
            ],
            "text/html": [
              "\n",
              "  <div id=\"df-0a955ca3-cf1e-4b30-a15f-b6f58b8f5d8d\">\n",
              "    <div class=\"colab-df-container\">\n",
              "      <div>\n",
              "<style scoped>\n",
              "    .dataframe tbody tr th:only-of-type {\n",
              "        vertical-align: middle;\n",
              "    }\n",
              "\n",
              "    .dataframe tbody tr th {\n",
              "        vertical-align: top;\n",
              "    }\n",
              "\n",
              "    .dataframe thead th {\n",
              "        text-align: right;\n",
              "    }\n",
              "</style>\n",
              "<table border=\"1\" class=\"dataframe\">\n",
              "  <thead>\n",
              "    <tr style=\"text-align: right;\">\n",
              "      <th></th>\n",
              "      <th>CRIM</th>\n",
              "      <th>ZN</th>\n",
              "      <th>INDUS</th>\n",
              "      <th>CHAS</th>\n",
              "      <th>NOX</th>\n",
              "      <th>RM</th>\n",
              "      <th>AGE</th>\n",
              "      <th>DIS</th>\n",
              "      <th>RAD</th>\n",
              "      <th>TAX</th>\n",
              "      <th>PTRATIO</th>\n",
              "      <th>B</th>\n",
              "      <th>LSTAT</th>\n",
              "      <th>MEDV</th>\n",
              "    </tr>\n",
              "  </thead>\n",
              "  <tbody>\n",
              "    <tr>\n",
              "      <th>0</th>\n",
              "      <td>0.00632</td>\n",
              "      <td>18.0</td>\n",
              "      <td>2.31</td>\n",
              "      <td>0</td>\n",
              "      <td>0.538</td>\n",
              "      <td>6.575</td>\n",
              "      <td>65.2</td>\n",
              "      <td>4.0900</td>\n",
              "      <td>1</td>\n",
              "      <td>296</td>\n",
              "      <td>15.3</td>\n",
              "      <td>396.90</td>\n",
              "      <td>4.98</td>\n",
              "      <td>24.0</td>\n",
              "    </tr>\n",
              "    <tr>\n",
              "      <th>1</th>\n",
              "      <td>0.02731</td>\n",
              "      <td>0.0</td>\n",
              "      <td>7.07</td>\n",
              "      <td>0</td>\n",
              "      <td>0.469</td>\n",
              "      <td>6.421</td>\n",
              "      <td>78.9</td>\n",
              "      <td>4.9671</td>\n",
              "      <td>2</td>\n",
              "      <td>242</td>\n",
              "      <td>17.8</td>\n",
              "      <td>396.90</td>\n",
              "      <td>9.14</td>\n",
              "      <td>21.6</td>\n",
              "    </tr>\n",
              "    <tr>\n",
              "      <th>2</th>\n",
              "      <td>0.02729</td>\n",
              "      <td>0.0</td>\n",
              "      <td>7.07</td>\n",
              "      <td>0</td>\n",
              "      <td>0.469</td>\n",
              "      <td>7.185</td>\n",
              "      <td>61.1</td>\n",
              "      <td>4.9671</td>\n",
              "      <td>2</td>\n",
              "      <td>242</td>\n",
              "      <td>17.8</td>\n",
              "      <td>392.83</td>\n",
              "      <td>4.03</td>\n",
              "      <td>34.7</td>\n",
              "    </tr>\n",
              "    <tr>\n",
              "      <th>3</th>\n",
              "      <td>0.03237</td>\n",
              "      <td>0.0</td>\n",
              "      <td>2.18</td>\n",
              "      <td>0</td>\n",
              "      <td>0.458</td>\n",
              "      <td>6.998</td>\n",
              "      <td>45.8</td>\n",
              "      <td>6.0622</td>\n",
              "      <td>3</td>\n",
              "      <td>222</td>\n",
              "      <td>18.7</td>\n",
              "      <td>394.63</td>\n",
              "      <td>2.94</td>\n",
              "      <td>33.4</td>\n",
              "    </tr>\n",
              "    <tr>\n",
              "      <th>4</th>\n",
              "      <td>0.06905</td>\n",
              "      <td>0.0</td>\n",
              "      <td>2.18</td>\n",
              "      <td>0</td>\n",
              "      <td>0.458</td>\n",
              "      <td>7.147</td>\n",
              "      <td>54.2</td>\n",
              "      <td>6.0622</td>\n",
              "      <td>3</td>\n",
              "      <td>222</td>\n",
              "      <td>18.7</td>\n",
              "      <td>396.90</td>\n",
              "      <td>5.33</td>\n",
              "      <td>36.2</td>\n",
              "    </tr>\n",
              "  </tbody>\n",
              "</table>\n",
              "</div>\n",
              "      <button class=\"colab-df-convert\" onclick=\"convertToInteractive('df-0a955ca3-cf1e-4b30-a15f-b6f58b8f5d8d')\"\n",
              "              title=\"Convert this dataframe to an interactive table.\"\n",
              "              style=\"display:none;\">\n",
              "        \n",
              "  <svg xmlns=\"http://www.w3.org/2000/svg\" height=\"24px\"viewBox=\"0 0 24 24\"\n",
              "       width=\"24px\">\n",
              "    <path d=\"M0 0h24v24H0V0z\" fill=\"none\"/>\n",
              "    <path d=\"M18.56 5.44l.94 2.06.94-2.06 2.06-.94-2.06-.94-.94-2.06-.94 2.06-2.06.94zm-11 1L8.5 8.5l.94-2.06 2.06-.94-2.06-.94L8.5 2.5l-.94 2.06-2.06.94zm10 10l.94 2.06.94-2.06 2.06-.94-2.06-.94-.94-2.06-.94 2.06-2.06.94z\"/><path d=\"M17.41 7.96l-1.37-1.37c-.4-.4-.92-.59-1.43-.59-.52 0-1.04.2-1.43.59L10.3 9.45l-7.72 7.72c-.78.78-.78 2.05 0 2.83L4 21.41c.39.39.9.59 1.41.59.51 0 1.02-.2 1.41-.59l7.78-7.78 2.81-2.81c.8-.78.8-2.07 0-2.86zM5.41 20L4 18.59l7.72-7.72 1.47 1.35L5.41 20z\"/>\n",
              "  </svg>\n",
              "      </button>\n",
              "      \n",
              "  <style>\n",
              "    .colab-df-container {\n",
              "      display:flex;\n",
              "      flex-wrap:wrap;\n",
              "      gap: 12px;\n",
              "    }\n",
              "\n",
              "    .colab-df-convert {\n",
              "      background-color: #E8F0FE;\n",
              "      border: none;\n",
              "      border-radius: 50%;\n",
              "      cursor: pointer;\n",
              "      display: none;\n",
              "      fill: #1967D2;\n",
              "      height: 32px;\n",
              "      padding: 0 0 0 0;\n",
              "      width: 32px;\n",
              "    }\n",
              "\n",
              "    .colab-df-convert:hover {\n",
              "      background-color: #E2EBFA;\n",
              "      box-shadow: 0px 1px 2px rgba(60, 64, 67, 0.3), 0px 1px 3px 1px rgba(60, 64, 67, 0.15);\n",
              "      fill: #174EA6;\n",
              "    }\n",
              "\n",
              "    [theme=dark] .colab-df-convert {\n",
              "      background-color: #3B4455;\n",
              "      fill: #D2E3FC;\n",
              "    }\n",
              "\n",
              "    [theme=dark] .colab-df-convert:hover {\n",
              "      background-color: #434B5C;\n",
              "      box-shadow: 0px 1px 3px 1px rgba(0, 0, 0, 0.15);\n",
              "      filter: drop-shadow(0px 1px 2px rgba(0, 0, 0, 0.3));\n",
              "      fill: #FFFFFF;\n",
              "    }\n",
              "  </style>\n",
              "\n",
              "      <script>\n",
              "        const buttonEl =\n",
              "          document.querySelector('#df-0a955ca3-cf1e-4b30-a15f-b6f58b8f5d8d button.colab-df-convert');\n",
              "        buttonEl.style.display =\n",
              "          google.colab.kernel.accessAllowed ? 'block' : 'none';\n",
              "\n",
              "        async function convertToInteractive(key) {\n",
              "          const element = document.querySelector('#df-0a955ca3-cf1e-4b30-a15f-b6f58b8f5d8d');\n",
              "          const dataTable =\n",
              "            await google.colab.kernel.invokeFunction('convertToInteractive',\n",
              "                                                     [key], {});\n",
              "          if (!dataTable) return;\n",
              "\n",
              "          const docLinkHtml = 'Like what you see? Visit the ' +\n",
              "            '<a target=\"_blank\" href=https://colab.research.google.com/notebooks/data_table.ipynb>data table notebook</a>'\n",
              "            + ' to learn more about interactive tables.';\n",
              "          element.innerHTML = '';\n",
              "          dataTable['output_type'] = 'display_data';\n",
              "          await google.colab.output.renderOutput(dataTable, element);\n",
              "          const docLink = document.createElement('div');\n",
              "          docLink.innerHTML = docLinkHtml;\n",
              "          element.appendChild(docLink);\n",
              "        }\n",
              "      </script>\n",
              "    </div>\n",
              "  </div>\n",
              "  "
            ]
          },
          "metadata": {},
          "execution_count": 69
        }
      ]
    },
    {
      "cell_type": "code",
      "source": [
        "input = data.drop('MEDV',axis = 1)\n",
        "output = data[\"MEDV\"]"
      ],
      "metadata": {
        "id": "FwenOnBKBjqz"
      },
      "execution_count": 70,
      "outputs": []
    },
    {
      "cell_type": "code",
      "source": [
        "# SPLITTING TRAIN_TEST DATASETS\n",
        "from sklearn.model_selection import train_test_split\n",
        "input_train , input_test , output_train , output_test = train_test_split(input,output,test_size =0.5,random_state=5)"
      ],
      "metadata": {
        "id": "KUef2v0VB25o"
      },
      "execution_count": 71,
      "outputs": []
    },
    {
      "cell_type": "code",
      "source": [
        "from sklearn.linear_model import Ridge\n",
        "ridge_reg = Ridge(alpha =2)"
      ],
      "metadata": {
        "id": "Nd3nlIOyCusx"
      },
      "execution_count": 72,
      "outputs": []
    },
    {
      "cell_type": "code",
      "source": [
        "# TRAIN SET\n",
        "ridge_reg.fit(input_train,output_train)\n",
        "ridge_reg.coef_"
      ],
      "metadata": {
        "colab": {
          "base_uri": "https://localhost:8080/"
        },
        "id": "hqmDPuqTDMZj",
        "outputId": "59d9e5ca-1d63-4ad1-a815-9bebde1eafe2"
      },
      "execution_count": 73,
      "outputs": [
        {
          "output_type": "execute_result",
          "data": {
            "text/plain": [
              "array([-0.14969842,  0.03237139, -0.09018754,  0.34037164, -4.20255708,\n",
              "        4.5577542 , -0.02299941, -1.00110724,  0.33355727, -0.01506624,\n",
              "       -0.93003207,  0.01119556, -0.38911538])"
            ]
          },
          "metadata": {},
          "execution_count": 73
        }
      ]
    },
    {
      "cell_type": "code",
      "source": [
        "R_pred_train_output = ridge_reg.predict(input_train)"
      ],
      "metadata": {
        "id": "LoAxslibDXZ2"
      },
      "execution_count": 74,
      "outputs": []
    },
    {
      "cell_type": "code",
      "source": [
        "# RIDGE MODEL EVALUATION FOR TRAIN DATASET\n",
        "from sklearn.metrics import mean_absolute_error,mean_squared_error,r2_score,mean_absolute_percentage_error\n",
        "print(\"The mean_absolute_error is : \",mean_absolute_error(output_train,R_pred_train_output))\n",
        "print(\"The mean_squared_error is : \",mean_squared_error(output_train,R_pred_train_output))\n",
        "print(\"The r2_score is : \",r2_score(output_train,R_pred_train_output))\n",
        "print(\"The mean_absolute_percentage_error is : \",mean_absolute_percentage_error(output_train,R_pred_train_output))\n",
        "print(\"The root_mean_absolute_error is : \",np.sqrt(mean_absolute_error(output_train,R_pred_train_output)))"
      ],
      "metadata": {
        "colab": {
          "base_uri": "https://localhost:8080/"
        },
        "id": "_nWQsrhRGd0c",
        "outputId": "63ea5968-834d-49bc-b9d5-39e5a3edb9cf"
      },
      "execution_count": 75,
      "outputs": [
        {
          "output_type": "stream",
          "name": "stdout",
          "text": [
            "The mean_absolute_error is :  3.142823236137908\n",
            "The mean_squared_error is :  20.84285643088455\n",
            "The r2_score is :  0.7546338492167107\n",
            "The mean_absolute_percentage_error is :  0.15938393876119483\n",
            "The root_mean_absolute_error is :  1.772800957845496\n"
          ]
        }
      ]
    },
    {
      "cell_type": "code",
      "source": [
        "plt.scatter(output_train,R_pred_train_output)"
      ],
      "metadata": {
        "colab": {
          "base_uri": "https://localhost:8080/",
          "height": 448
        },
        "id": "OdQchC2_HvYy",
        "outputId": "d4b8f699-aca7-40fe-ebf7-ac430af6e29c"
      },
      "execution_count": 76,
      "outputs": [
        {
          "output_type": "execute_result",
          "data": {
            "text/plain": [
              "<matplotlib.collections.PathCollection at 0x7f86358f8220>"
            ]
          },
          "metadata": {},
          "execution_count": 76
        },
        {
          "output_type": "display_data",
          "data": {
            "text/plain": [
              "<Figure size 640x480 with 1 Axes>"
            ],
            "image/png": "[encoded data removed]"
          },
          "metadata": {}
        }
      ]
    },
    {
      "cell_type": "code",
      "source": [
        "# TEST SET\n",
        "R_pred_test_output = ridge_reg.predict(input_test)\n",
        "ridge_reg.coef_"
      ],
      "metadata": {
        "colab": {
          "base_uri": "https://localhost:8080/"
        },
        "id": "bkQcY2p2JSyB",
        "outputId": "496e7510-51bc-4ea4-fe1c-a9ba9136ecf0"
      },
      "execution_count": 77,
      "outputs": [
        {
          "output_type": "execute_result",
          "data": {
            "text/plain": [
              "array([-0.14969842,  0.03237139, -0.09018754,  0.34037164, -4.20255708,\n",
              "        4.5577542 , -0.02299941, -1.00110724,  0.33355727, -0.01506624,\n",
              "       -0.93003207,  0.01119556, -0.38911538])"
            ]
          },
          "metadata": {},
          "execution_count": 77
        }
      ]
    },
    {
      "cell_type": "code",
      "source": [
        "# RIDGE MODEL EVALUATION FOR TRAIN DATASET\n",
        "from sklearn.metrics import mean_absolute_error,mean_squared_error,r2_score,mean_absolute_percentage_error\n",
        "print(\"The mean_absolute_error is : \",mean_absolute_error(output_test,R_pred_test_output))\n",
        "print(\"The mean_squared_error is : \",mean_squared_error(output_test,R_pred_test_output))\n",
        "print(\"The r2_score is : \",r2_score(output_test,R_pred_test_output))\n",
        "print(\"The mean_absolute_percentage_error is : \",mean_absolute_percentage_error(output_test,R_pred_test_output))\n",
        "print(\"The root_mean_absolute_error is : \",np.sqrt(mean_absolute_error(output_test,R_pred_test_output)))"
      ],
      "metadata": {
        "colab": {
          "base_uri": "https://localhost:8080/"
        },
        "id": "2Da-8SMZK_ad",
        "outputId": "f8702d98-bafd-479f-b75f-5d325f5331e7"
      },
      "execution_count": 78,
      "outputs": [
        {
          "output_type": "stream",
          "name": "stdout",
          "text": [
            "The mean_absolute_error is :  3.4325369064954003\n",
            "The mean_squared_error is :  26.546386624805926\n",
            "The r2_score is :  0.6829939645048266\n",
            "The mean_absolute_percentage_error is :  0.17123772412101074\n",
            "The root_mean_absolute_error is :  1.8527106915261757\n"
          ]
        }
      ]
    },
    {
      "cell_type": "code",
      "source": [
        "plt.scatter(output_test,R_pred_test_output)"
      ],
      "metadata": {
        "colab": {
          "base_uri": "https://localhost:8080/",
          "height": 448
        },
        "id": "3dOkycy2MO0B",
        "outputId": "77a99f37-8276-49c0-abad-e23c0dcf802d"
      },
      "execution_count": 79,
      "outputs": [
        {
          "output_type": "execute_result",
          "data": {
            "text/plain": [
              "<matplotlib.collections.PathCollection at 0x7f8635e7e950>"
            ]
          },
          "metadata": {},
          "execution_count": 79
        },
        {
          "output_type": "display_data",
          "data": {
            "text/plain": [
              "<Figure size 640x480 with 1 Axes>"
            ],
            "image/png": "[encoded data removed]"
          },
          "metadata": {}
        }
      ]
    },
    {
      "cell_type": "markdown",
      "source": [
        "LASSO REGULARIZATION"
      ],
      "metadata": {
        "id": "kewjmvLzI57S"
      }
    },
    {
      "cell_type": "code",
      "source": [
        "from sklearn.linear_model import Lasso\n",
        "lasso_reg = Lasso(alpha =2)"
      ],
      "metadata": {
        "id": "7KoffG2-H_H9"
      },
      "execution_count": 80,
      "outputs": []
    },
    {
      "cell_type": "code",
      "source": [
        "# TRAIN SET\n",
        "lasso_reg.fit(input_train,output_train)\n",
        "lasso_reg.coef_"
      ],
      "metadata": {
        "colab": {
          "base_uri": "https://localhost:8080/"
        },
        "id": "KUemqMgvMe7t",
        "outputId": "80080400-d627-468c-cd12-269573621c32"
      },
      "execution_count": 81,
      "outputs": [
        {
          "output_type": "execute_result",
          "data": {
            "text/plain": [
              "array([-0.03920173,  0.02951699, -0.03268874,  0.        , -0.        ,\n",
              "        0.        ,  0.02220222, -0.        ,  0.22640573, -0.01386595,\n",
              "       -0.72490572,  0.00732841, -0.71304971])"
            ]
          },
          "metadata": {},
          "execution_count": 81
        }
      ]
    },
    {
      "cell_type": "code",
      "source": [
        "L_pred_train_output = lasso_reg.predict(input_train)"
      ],
      "metadata": {
        "id": "gmqCpt7pNAGk"
      },
      "execution_count": 82,
      "outputs": []
    },
    {
      "cell_type": "code",
      "source": [
        "# LASSO MODEL EVALUATION FOR TRAIN DATASET\n",
        "from sklearn.metrics import mean_absolute_error,mean_squared_error,r2_score,mean_absolute_percentage_error\n",
        "print(\"The mean_absolute_error is : \",mean_absolute_error(output_train,L_pred_train_output))\n",
        "print(\"The mean_squared_error is : \",mean_squared_error(output_train,L_pred_train_output))\n",
        "print(\"The r2_score is : \",r2_score(output_train,L_pred_train_output))\n",
        "print(\"The mean_absolute_percentage_error is : \",mean_absolute_percentage_error(output_train,L_pred_train_output))\n",
        "print(\"The root_mean_absolute_error is : \",np.sqrt(mean_absolute_error(output_train,L_pred_train_output)))"
      ],
      "metadata": {
        "colab": {
          "base_uri": "https://localhost:8080/"
        },
        "id": "lLzogG5KNKy9",
        "outputId": "e5efe26e-b561-4f27-8737-df0571c22943"
      },
      "execution_count": 83,
      "outputs": [
        {
          "output_type": "stream",
          "name": "stdout",
          "text": [
            "The mean_absolute_error is :  3.776970169286788\n",
            "The mean_squared_error is :  30.13315762964648\n",
            "The r2_score is :  0.6452666205781333\n",
            "The mean_absolute_percentage_error is :  0.1730216924694535\n",
            "The root_mean_absolute_error is :  1.9434428649401525\n"
          ]
        }
      ]
    },
    {
      "cell_type": "code",
      "source": [
        "plt.scatter(output_train,L_pred_train_output)"
      ],
      "metadata": {
        "colab": {
          "base_uri": "https://localhost:8080/",
          "height": 448
        },
        "id": "kVEXBPfcNpc4",
        "outputId": "e1552e80-0cab-4ed4-d11c-5464efcd639e"
      },
      "execution_count": 84,
      "outputs": [
        {
          "output_type": "execute_result",
          "data": {
            "text/plain": [
              "<matplotlib.collections.PathCollection at 0x7f86355eb940>"
            ]
          },
          "metadata": {},
          "execution_count": 84
        },
        {
          "output_type": "display_data",
          "data": {
            "text/plain": [
              "<Figure size 640x480 with 1 Axes>"
            ],
            "image/png": "[encoded data removed]"
          },
          "metadata": {}
        }
      ]
    },
    {
      "cell_type": "code",
      "source": [
        "# TEST SET\n",
        "L_pred_test_output = lasso_reg.predict(input_test)\n",
        "lasso_reg.coef_"
      ],
      "metadata": {
        "colab": {
          "base_uri": "https://localhost:8080/"
        },
        "id": "6UJx9zxiIKyc",
        "outputId": "c967d601-62e3-4f31-9b6f-223689004c6c"
      },
      "execution_count": 85,
      "outputs": [
        {
          "output_type": "execute_result",
          "data": {
            "text/plain": [
              "array([-0.03920173,  0.02951699, -0.03268874,  0.        , -0.        ,\n",
              "        0.        ,  0.02220222, -0.        ,  0.22640573, -0.01386595,\n",
              "       -0.72490572,  0.00732841, -0.71304971])"
            ]
          },
          "metadata": {},
          "execution_count": 85
        }
      ]
    },
    {
      "cell_type": "code",
      "source": [
        "# LASSO MODEL EVALUATION FOR TRAIN DATASET\n",
        "from sklearn.metrics import mean_absolute_error,mean_squared_error,r2_score,mean_absolute_percentage_error\n",
        "print(\"The mean_absolute_error is : \",mean_absolute_error(output_test,L_pred_test_output))\n",
        "print(\"The mean_squared_error is : \",mean_squared_error(output_test,L_pred_test_output))\n",
        "print(\"The r2_score is : \",r2_score(output_test,L_pred_test_output))\n",
        "print(\"The mean_absolute_percentage_error is : \",mean_absolute_percentage_error(output_test,L_pred_test_output))\n",
        "print(\"The root_mean_absolute_error is : \",np.sqrt(mean_absolute_error(output_test,L_pred_test_output)))"
      ],
      "metadata": {
        "colab": {
          "base_uri": "https://localhost:8080/"
        },
        "id": "USQPScNPIbge",
        "outputId": "dd86c1fd-2cda-4019-f68d-09e0eb6af83d"
      },
      "execution_count": 86,
      "outputs": [
        {
          "output_type": "stream",
          "name": "stdout",
          "text": [
            "The mean_absolute_error is :  4.242785314981138\n",
            "The mean_squared_error is :  34.10933800789076\n",
            "The r2_score is :  0.5926803083195382\n",
            "The mean_absolute_percentage_error is :  0.20155664123271538\n",
            "The root_mean_absolute_error is :  2.059802251426369\n"
          ]
        }
      ]
    },
    {
      "cell_type": "code",
      "source": [
        "plt.scatter(output_test,L_pred_test_output)"
      ],
      "metadata": {
        "colab": {
          "base_uri": "https://localhost:8080/",
          "height": 448
        },
        "id": "jS69IL7YJHlZ",
        "outputId": "a2404ecc-e050-4f9a-bb24-90a8c11134a5"
      },
      "execution_count": 87,
      "outputs": [
        {
          "output_type": "execute_result",
          "data": {
            "text/plain": [
              "<matplotlib.collections.PathCollection at 0x7f863581ff70>"
            ]
          },
          "metadata": {},
          "execution_count": 87
        },
        {
          "output_type": "display_data",
          "data": {
            "text/plain": [
              "<Figure size 640x480 with 1 Axes>"
            ],
            "image/png": "[encoded data removed]"
          },
          "metadata": {}
        }
      ]
    }
  ]
}